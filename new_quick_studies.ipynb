{
 "cells": [
  {
   "cell_type": "code",
   "execution_count": 1,
   "metadata": {},
   "outputs": [
    {
     "name": "stderr",
     "output_type": "stream",
     "text": [
      "/cvmfs/sft.cern.ch/lcg/views/LCG_91/x86_64-slc6-gcc62-opt/lib/python2.7/site-packages/matplotlib/font_manager.py:273: UserWarning: Matplotlib is building the font cache using fc-list. This may take a moment.\n",
      "  warnings.warn('Matplotlib is building the font cache using fc-list. This may take a moment.')\n"
     ]
    },
    {
     "data": {
      "image/png": "[encoded data removed]",
      "text/plain": [
       "<matplotlib.figure.Figure at 0x7f04581c6310>"
      ]
     },
     "metadata": {},
     "output_type": "display_data"
    }
   ],
   "source": [
    "import matplotlib.pyplot as plt\n",
    "\n",
    "action_sequence = {\n",
    "    '+C': {1: 191, 2: 557}, '+B': None, '-B': None, '+D': None, \n",
    "    '+N': {1: 1, 3: 1}, '+L': {1: 2819, 2: 1506}, \n",
    "    '>L': None, '<C': {0: 2125}, '<B': None, '<L': {0: 2949, 1: 2062}\n",
    "}\n",
    "\n",
    "# x data are categorical; define a lookup table mapping category string to int\n",
    "x_labels = list(sorted(action_sequence.keys()))\n",
    "x_values = list(range(len(x_labels)))\n",
    "lookup_table = dict((v,k) for k,v in enumerate(x_labels))\n",
    "\n",
    "# Build a list of points (x, y, annotation) defining the scatter plot.\n",
    "points = [(lookup_table[action], key, anno)\n",
    "      for action, values in action_sequence.items()\n",
    "      for key, anno in (values if values else {}).items()]\n",
    "x, y, anno = zip(*points)\n",
    "\n",
    "# y is also categorical, with integer labels for the categories\n",
    "y_values = list(range(min(y), max(y)+1))\n",
    "y_labels = [str(v) for v in y_values]\n",
    "\n",
    "plt.figure(figsize=(10,8))\n",
    "plt.title('Scatter Plot', fontsize=20)\n",
    "plt.xlabel('x', fontsize=15)\n",
    "plt.ylabel('y', fontsize=15)\n",
    "plt.xticks(x_values, x_labels)\n",
    "plt.yticks(y_values, y_labels)\n",
    "plt.axis([min(x_values)-0.5, max(x_values)+0.5, \n",
    "          min(y_values)-0.5, max(y_values)+0.5])\n",
    "#plt.scatter(x, y, marker = 'o')\n",
    "for x_k, y_k, anno_k in points:\n",
    "    plt.text(x_k, y_k, str(anno_k))\n",
    "\n",
    "plt.show()"
   ]
  },
  {
   "cell_type": "code",
   "execution_count": null,
   "metadata": {
    "collapsed": true
   },
   "outputs": [],
   "source": [
    "200\t11.435640647331025\t10.8\t-10.2\t11.2\t-7.7\t15.558920271021378\t-15.558920271021378\n",
    "260\t3.3956158561401915\t11.8\t-11.3\t7.8\t-5.3\t14.14496376806954\t-14.14496376806954\n",
    "300\t1.7849442756422578\t12.7\t-12.2\t6.6\t-4.5\t14.31258187749506\t-14.31258187749506\n",
    "400\t0.482656932882833\t15.\t-15.\t4.\t-2.9\t15.524174696260024\t-15.524174696260024\n",
    "500\t0.1752152838112674\t17.3\t-17.5\t3.1\t-2.6\t17.575551200460257\t-17.575551200460257\n",
    "600\t0.07351488557261508\t19.5\t-19.8\t2.1\t-1.7\t19.612750954417386\t-19.612750954417386\n",
    "700\t0.034987146007437867\t22.2\t-22.5\t2.7\t-1.9\t22.363586474445462\t-22.363586474445462\n",
    "750\t0.024916348817773982\t23.4\t-23.5\t1.7\t-1.3\t23.46167086973986\t-23.46167086973986\n",
    "800\t0.018199328025736643\t24.4\t-24.6\t1.8\t-1.4\t24.466303357883877\t-24.466303357883877\n",
    "900\t0.009802248453866633\t27.2\t-26.9\t1.9\t-1.5\t27.266279540854118\t-27.266279540854118\n",
    "1000\t0.0056657071801246945\t29.6\t-29.\t1.9\t-1.5\t29.660917045836598\t-29.660917045836598"
   ]
  },
  {
   "cell_type": "code",
   "execution_count": 33,
   "metadata": {
    "collapsed": true
   },
   "outputs": [],
   "source": [
    "import collections\n",
    "wed_mass_xsec_dict = collections.OrderedDict ({200:11.4356, 260:3.3956, 300:1.7849, 400:0.4827, 500:0.1752, 600:0.0735, 700:0.035, 750:0.0249, 800:0.0182, 900:0.0098, 1000:0.0057})"
   ]
  },
  {
   "cell_type": "code",
   "execution_count": 34,
   "metadata": {},
   "outputs": [
    {
     "data": {
      "text/plain": [
       "OrderedDict([(260, 3.3956),\n",
       "             (200, 11.4356),\n",
       "             (400, 0.4827),\n",
       "             (600, 0.0735),\n",
       "             (900, 0.0098),\n",
       "             (800, 0.0182),\n",
       "             (1000, 0.0057),\n",
       "             (300, 1.7849),\n",
       "             (750, 0.0249),\n",
       "             (500, 0.1752),\n",
       "             (700, 0.035)])"
      ]
     },
     "execution_count": 34,
     "metadata": {},
     "output_type": "execute_result"
    }
   ],
   "source": [
    "wed_mass_xsec_dict"
   ]
  },
  {
   "cell_type": "code",
   "execution_count": 35,
   "metadata": {},
   "outputs": [
    {
     "data": {
      "text/plain": [
       "OrderedDict([(800, 0.0004914),\n",
       "             (900, 0.0002646),\n",
       "             (200, 0.3087612),\n",
       "             (300, 0.0481923),\n",
       "             (750, 0.0006722999999999999),\n",
       "             (400, 0.0130329),\n",
       "             (1000, 0.0001539),\n",
       "             (500, 0.0047304),\n",
       "             (600, 0.0019844999999999997),\n",
       "             (260, 0.0916812),\n",
       "             (700, 0.0009450000000000001)])"
      ]
     },
     "execution_count": 35,
     "metadata": {},
     "output_type": "execute_result"
    }
   ],
   "source": [
    "bbllnunu_BF = 0.027\n",
    "bbzz_wed_mass_xsec_dict = collections.OrderedDict ({k:(v*bbllnunu_BF) for k,v in wed_mass_xsec_dict.items()})\n",
    "#bbzz_wed_mass_xsec_dict = {k:(v*bbllnunu_BF) for k,v in wed_mass_xsec_dict.items()}\n",
    "bbzz_wed_mass_xsec_dict"
   ]
  },
  {
   "cell_type": "code",
   "execution_count": 43,
   "metadata": {},
   "outputs": [
    {
     "data": {
      "text/plain": [
       "'[11.4356, 3.3956, 1.7849, 0.4827, 0.1752, 0.0735, 0.035, 0.0249, 0.0182, 0.0098, 0.0057]'"
      ]
     },
     "execution_count": 43,
     "metadata": {},
     "output_type": "execute_result"
    }
   ],
   "source": [
    "wed_masses = [k for k,v in wed_mass_xsec_dict.items()]\n",
    "bbzz_wed_xsecs = [v for k,v in wed_mass_xsec_dict.items()]\n",
    "bbzz_wed_xsecs.sort(reverse=True)\n",
    "str(bbzz_wed_xsecs)"
   ]
  },
  {
   "cell_type": "code",
   "execution_count": null,
   "metadata": {
    "collapsed": true
   },
   "outputs": [],
   "source": [
    "200\t39275.97974999999\t12.\t-12.4\t3.2\t-2.2\t12.41933975700802\t-12.41933975700802\n",
    "260\t14445.394571005914\t12.7\t-12.6\t2.4\t-1.2\t12.924782396620841\t-12.924782396620841\n",
    "300\t8033.667566666667\t13.4\t-12.9\t3.\t-1.6\t13.731715115017497\t-13.731715115017497\n",
    "400\t2481.7945187499995\t14.8\t-14.5\t2.2\t-0.6\t14.962620091414472\t-14.962620091414472\n",
    "500\t937.0493319999999\t16.5\t-16.6\t2.4\t-0.9\t16.673631877908303\t-16.673631877908303\n",
    "600\t415.6188333333333\t18.1\t-18.2\t2.3\t-1.\t18.245547402037573\t-18.245547402037573\n",
    "700\t205.60409224489794\t19.8\t-20.\t1.7\t-1.\t19.872845795205073\t-19.872845795205073\n",
    "750\t146.42821955555556\t20.8\t-21.1\t1.7\t-0.9\t20.869355524308844\t-20.869355524308844\n",
    "800\t105.82236140624998\t21.6\t-21.8\t2.1\t-1.1\t21.70184323968819\t-21.70184323968819\n",
    "900\t60.50468506172839\t23.\t-23.1\t1.4\t-1.\t23.04256930118688\t-23.04256930118688\n",
    "1000\t36.1295007\t24.6\t-24.3\t1.3\t-1.2\t24.634325645326687\t-24.634325645326687"
   ]
  },
  {
   "cell_type": "code",
   "execution_count": 45,
   "metadata": {},
   "outputs": [
    {
     "data": {
      "text/plain": [
       "'[39275.98, 14445.39, 8033.67, 2481.79, 937.05, 415.62, 205.6, 146.43, 105.82, 60.5, 36.13]'"
      ]
     },
     "execution_count": 45,
     "metadata": {},
     "output_type": "execute_result"
    }
   ],
   "source": [
    "rs1_wed_xsecs = [39275.98, 14445.39, 8033.67, 2481.79, 937.05, 415.62, 205.6, 146.43, 105.82, 60.5,  36.13]\n",
    "str(rs1_wed_xsecs)"
   ]
  },
  {
   "cell_type": "code",
   "execution_count": 3,
   "metadata": {},
   "outputs": [
    {
     "data": {
      "image/png": "[encoded data removed]",
      "text/plain": [
       "<matplotlib.figure.Figure at 0x7fb7a996e790>"
      ]
     },
     "metadata": {},
     "output_type": "display_data"
    }
   ],
   "source": [
    "import numpy as np\n",
    "import matplotlib.pyplot as plt\n",
    "\n",
    "# evenly sampled time at 200ms intervals\n",
    "#t = np.arange(0., 5., 0.2)\n",
    "t = np.array([1, 2, 3, 4])\n",
    "\n",
    "# red dashes, blue squares and green triangles\n",
    "plt.plot(t, t, 'r--', t, t**2, 'bs', t, t**3, 'g^', )\n",
    "plt.show()"
   ]
  },
  {
   "cell_type": "code",
   "execution_count": null,
   "metadata": {
    "collapsed": true
   },
   "outputs": [],
   "source": []
  }
 ],
 "metadata": {
  "kernelspec": {
   "display_name": "Python 2",
   "language": "python",
   "name": "python2"
  },
  "language_info": {
   "codemirror_mode": {
    "name": "ipython",
    "version": 2
   },
   "file_extension": ".py",
   "mimetype": "text/x-python",
   "name": "python",
   "nbconvert_exporter": "python",
   "pygments_lexer": "ipython2",
   "version": "2.7.13"
  }
 },
 "nbformat": 4,
 "nbformat_minor": 2
}
